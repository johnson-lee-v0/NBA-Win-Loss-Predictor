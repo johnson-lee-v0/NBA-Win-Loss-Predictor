{
 "cells": [
  {
   "cell_type": "code",
   "execution_count": 1,
   "id": "501cda04",
   "metadata": {},
   "outputs": [],
   "source": [
    "import pandas as pd\n",
    "import numpy as np\n",
    "import seaborn as sns\n",
    "import matplotlib.pyplot as plt\n",
    "from matplotlib.pyplot import figure\n",
    "from datetime import datetime"
   ]
  },
  {
   "cell_type": "code",
   "execution_count": 2,
   "id": "401b91c5",
   "metadata": {},
   "outputs": [],
   "source": [
    "df=pd.read_csv('Combine.csv')\n",
    "df['Date'] = df['Date'].apply(lambda x: datetime.strptime(x, '%d-%b-%y'))\n",
    "# Convert win/loss outcomes to binary labels (1 = Team B, 0 = Team A)\n",
    "df['Result'] = np.where(df['Result'] == 'Team B', 1, 0)\n",
    "df['Time_48'] = df['Time_48'].astype(str)\n",
    "df['Time_48']= df['Time_48'].str.replace('0 days', '')\n",
    "df['Time_48']= df['Time_48'].str.replace('.000000000', '')\n",
    "def time_to_seconds(time_str):\n",
    "    h, m, s = map(int, time_str.split(':'))\n",
    "    return (h * 3600) + (m * 60) + s\n",
    "\n",
    "df['Time_Sec']=df['Time_48'].apply(time_to_seconds)\n",
    "### Creating Total Rebound\n",
    "df['Team_A_RB']= df['Team_A_teamORB']+df['Team_A_teamDRB']+df['Team_A_ORB']+df['Team_A_DRB']\n",
    "df['Team_B_RB']= df['Team_B_teamORB']+df['Team_B_teamDRB']+df['Team_B_ORB']+df['Team_B_DRB']\n",
    "\n",
    "### NEW METRIC Points Attempted\n",
    "df['Team_A_PTA']=(df['Team_A_FGA']-df['Team_A_3PA'])*2+df['Team_A_3PA']*3+df['Team_A_FTA']\n",
    "df['Team_B_PTA']=(df['Team_B_FGA']-df['Team_B_3PA'])*2+df['Team_B_3PA']*3+df['Team_B_FTA']\n",
    "\n",
    "### NEW METRIC 3P as % of all points\n",
    "df['Team_A_3P%_All']=(df['Team_A_3P']*3)/(df['Team_A_Score'])\n",
    "df['Team_B_3P%_All']=(df['Team_B_3P']*3)/(df['Team_B_Score'])\n",
    "### Creating Difference of Stats (AST,BLK,TO,RBD)\n",
    "df['diff_PT']=(df['Team_B_Score']-df['Team_A_Score'])\n",
    "df['diff_AST']=(df['Team_B_AST']-df['Team_A_AST'])\n",
    "df['diff_RB']=(df['Team_B_RB']-df['Team_A_RB'])\n",
    "df['diff_ORB']=((df['Team_B_ORB'])+(df['Team_B_teamORB']))-((df['Team_A_ORB'])+(df['Team_A_teamORB']))\n",
    "df['diff_DRB']=((df['Team_B_DRB'])+(df['Team_B_teamDRB']))-((df['Team_A_DRB'])+(df['Team_A_teamDRB']))\n",
    "df['diff_ST']=(df['Team_B_ST']-df['Team_A_ST'])\n",
    "df['diff_BLK']=(df['Team_B_BLK']-df['Team_A_BLK'])\n",
    "df['diff_TO']=(df['Team_B_TO']-df['Team_A_TO'])\n",
    "df['diff_PF']=(df['Team_B_PF']-df['Team_A_PF'])\n",
    "df['diff_Tech']=(df['Team_B_Tech']-df['Team_A_Tech'])\n",
    "df['diff_PTA']=(df['Team_B_PTA']-df['Team_A_PTA'])\n",
    "df['diff_3P%_All']=df['Team_B_3P%_All']-df['Team_A_3P%_All']\n",
    "### (0 = Away Team leading | 1= Home Team leading)\n",
    "df['Home_Leading'] = np.where(df['Team_A_Score']<df['Team_B_Score'], 1, 0)\n",
    "\n",
    "regular_season=df[df['Date']<='10-Apr-22']\n",
    "playin_playoff=df[df['Date']>'10-Apr-22']"
   ]
  },
  {
   "cell_type": "code",
   "execution_count": 3,
   "id": "d3bda9ef",
   "metadata": {
    "scrolled": true
   },
   "outputs": [],
   "source": [
    "import numpy as np\n",
    "import pandas as pd\n",
    "from sklearn.preprocessing import StandardScaler\n",
    "from keras.models import Sequential\n",
    "from keras.layers import LSTM, Dense\n",
    "\n",
    "# Scale and normalize the input data, including the time variable\n",
    "scaler = StandardScaler()\n",
    "X = scaler.fit_transform(regular_season[['Time_Sec','diff_PT', 'diff_AST',\n",
    "       'diff_RB', 'diff_ORB', 'diff_DRB', 'diff_ST', 'diff_BLK', 'diff_TO',\n",
    "       'diff_PF', 'diff_Tech','diff_PTA','Home_Leading']])\n",
    "\n",
    "# Define the target variable\n",
    "y = regular_season['Result'].values\n",
    "\n",
    "# Split the data into training and testing sets\n",
    "train_size = int(0.8 * len(regular_season))\n",
    "X_train, X_test = X[:train_size], X[train_size:]\n",
    "y_train, y_test = y[:train_size], y[train_size:]\n",
    "\n",
    "# Reshape the input data to fit the expected shape for an LSTM model\n",
    "X_train = np.reshape(X_train, (X_train.shape[0], 1, X_train.shape[1]))\n",
    "X_test = np.reshape(X_test, (X_test.shape[0], 1, X_test.shape[1]))\n",
    "\n",
    "# Define and train the LSTM model\n",
    "model = Sequential()\n",
    "model.add(LSTM(32, input_shape=(1, X_train.shape[2])))\n",
    "model.add(Dense(1, activation='sigmoid'))\n",
    "model.compile(loss='binary_crossentropy', optimizer='adam', metrics=['accuracy'])"
   ]
  },
  {
   "cell_type": "code",
   "execution_count": null,
   "id": "6c102e5f",
   "metadata": {},
   "outputs": [],
   "source": [
    "model.fit(X_train, y_train, epochs=50, batch_size=16, validation_data=(X_test, y_test))"
   ]
  },
  {
   "cell_type": "code",
   "execution_count": 4,
   "id": "5487f907",
   "metadata": {},
   "outputs": [],
   "source": [
    "# save the model\n",
    "model.save('LTSM_model.h5')"
   ]
  },
  {
   "cell_type": "code",
   "execution_count": 5,
   "id": "a5a4597f",
   "metadata": {
    "scrolled": true
   },
   "outputs": [
    {
     "name": "stdout",
     "output_type": "stream",
     "text": [
      "Test loss: 0.5000759363174438\n",
      "Test accuracy: 0.7787521481513977\n"
     ]
    }
   ],
   "source": [
    "# Evaluate the model on the test data\n",
    "test_loss, test_accuracy = model.evaluate(X_test, y_test, verbose=0)\n",
    "\n",
    "# Print the test loss and accuracy\n",
    "print('Test loss:', test_loss)\n",
    "print('Test accuracy:', test_accuracy)\n"
   ]
  }
 ],
 "metadata": {
  "kernelspec": {
   "display_name": "Python 3",
   "language": "python",
   "name": "python3"
  },
  "language_info": {
   "codemirror_mode": {
    "name": "ipython",
    "version": 3
   },
   "file_extension": ".py",
   "mimetype": "text/x-python",
   "name": "python",
   "nbconvert_exporter": "python",
   "pygments_lexer": "ipython3",
   "version": "3.7.4"
  }
 },
 "nbformat": 4,
 "nbformat_minor": 5
}
